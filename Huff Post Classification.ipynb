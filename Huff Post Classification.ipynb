{
 "cells": [
  {
   "cell_type": "code",
   "execution_count": 1,
   "id": "expired-annotation",
   "metadata": {},
   "outputs": [],
   "source": [
    "\"\"\"\n",
    "Importing Libraries\n",
    "\"\"\"\n",
    "import pandas as pd\n",
    "import numpy as np\n",
    "import matplotlib.pyplot as plt\n",
    "import seaborn as sns\n",
    "\n",
    "import warnings\n",
    "warnings.simplefilter(action='ignore', category=FutureWarning)"
   ]
  },
  {
   "cell_type": "code",
   "execution_count": 2,
   "id": "forty-passage",
   "metadata": {},
   "outputs": [],
   "source": [
    "\"\"\"\n",
    "Importing the models\n",
    "\"\"\"\n",
    "from sklearn.linear_model import LogisticRegression\n",
    "from sklearn.ensemble import RandomForestClassifier\n",
    "from sklearn.naive_bayes import MultinomialNB\n",
    "from sklearn.neighbors import KNeighborsClassifier\n",
    "from sklearn.model_selection import cross_val_score"
   ]
  },
  {
   "cell_type": "code",
   "execution_count": 3,
   "id": "european-landscape",
   "metadata": {},
   "outputs": [
    {
     "data": {
      "text/plain": [
       "'/Users/shankar'"
      ]
     },
     "execution_count": 3,
     "metadata": {},
     "output_type": "execute_result"
    }
   ],
   "source": [
    "pwd"
   ]
  },
  {
   "cell_type": "code",
   "execution_count": 4,
   "id": "thick-punishment",
   "metadata": {},
   "outputs": [
    {
     "data": {
      "text/html": [
       "<div>\n",
       "<style scoped>\n",
       "    .dataframe tbody tr th:only-of-type {\n",
       "        vertical-align: middle;\n",
       "    }\n",
       "\n",
       "    .dataframe tbody tr th {\n",
       "        vertical-align: top;\n",
       "    }\n",
       "\n",
       "    .dataframe thead th {\n",
       "        text-align: right;\n",
       "    }\n",
       "</style>\n",
       "<table border=\"1\" class=\"dataframe\">\n",
       "  <thead>\n",
       "    <tr style=\"text-align: right;\">\n",
       "      <th></th>\n",
       "      <th>Text</th>\n",
       "      <th>Category</th>\n",
       "    </tr>\n",
       "  </thead>\n",
       "  <tbody>\n",
       "    <tr>\n",
       "      <th>0</th>\n",
       "      <td>Mei-Chun Jau for HuffPost Amanda Painter is th...</td>\n",
       "      <td>CRIME</td>\n",
       "    </tr>\n",
       "    <tr>\n",
       "      <th>1</th>\n",
       "      <td>The 2018 FIFA World Cup starts June 14 in Russ...</td>\n",
       "      <td>ENTERTAINMENT</td>\n",
       "    </tr>\n",
       "    <tr>\n",
       "      <th>2</th>\n",
       "      <td>Love actually turned to matrimony for Hugh Gra...</td>\n",
       "      <td>ENTERTAINMENT</td>\n",
       "    </tr>\n",
       "    <tr>\n",
       "      <th>3</th>\n",
       "      <td>Rep. Adam Schiff (D-Calif.) and fellow Democra...</td>\n",
       "      <td>ENTERTAINMENT</td>\n",
       "    </tr>\n",
       "    <tr>\n",
       "      <th>4</th>\n",
       "      <td>The “Dietland” star told host Jimmy Fallon tha...</td>\n",
       "      <td>ENTERTAINMENT</td>\n",
       "    </tr>\n",
       "    <tr>\n",
       "      <th>...</th>\n",
       "      <td>...</td>\n",
       "      <td>...</td>\n",
       "    </tr>\n",
       "    <tr>\n",
       "      <th>5440</th>\n",
       "      <td>Spain scooped up its first Winter Olympics med...</td>\n",
       "      <td>SPORTS</td>\n",
       "    </tr>\n",
       "    <tr>\n",
       "      <th>5441</th>\n",
       "      <td>U.S. figure skater Adam Rippon nailed his rout...</td>\n",
       "      <td>SPORTS</td>\n",
       "    </tr>\n",
       "    <tr>\n",
       "      <th>5442</th>\n",
       "      <td>Republicans trotted out the same old meaningle...</td>\n",
       "      <td>COMEDY</td>\n",
       "    </tr>\n",
       "    <tr>\n",
       "      <th>5443</th>\n",
       "      <td>Jamaica’s women’s bobsled team will have a sle...</td>\n",
       "      <td>SPORTS</td>\n",
       "    </tr>\n",
       "    <tr>\n",
       "      <th>5444</th>\n",
       "      <td>WASHINGTON ― Law enforcement officials in Flor...</td>\n",
       "      <td>POLITICS</td>\n",
       "    </tr>\n",
       "  </tbody>\n",
       "</table>\n",
       "<p>5445 rows × 2 columns</p>\n",
       "</div>"
      ],
      "text/plain": [
       "                                                   Text       Category\n",
       "0     Mei-Chun Jau for HuffPost Amanda Painter is th...          CRIME\n",
       "1     The 2018 FIFA World Cup starts June 14 in Russ...  ENTERTAINMENT\n",
       "2     Love actually turned to matrimony for Hugh Gra...  ENTERTAINMENT\n",
       "3     Rep. Adam Schiff (D-Calif.) and fellow Democra...  ENTERTAINMENT\n",
       "4     The “Dietland” star told host Jimmy Fallon tha...  ENTERTAINMENT\n",
       "...                                                 ...            ...\n",
       "5440  Spain scooped up its first Winter Olympics med...         SPORTS\n",
       "5441  U.S. figure skater Adam Rippon nailed his rout...         SPORTS\n",
       "5442  Republicans trotted out the same old meaningle...         COMEDY\n",
       "5443  Jamaica’s women’s bobsled team will have a sle...         SPORTS\n",
       "5444  WASHINGTON ― Law enforcement officials in Flor...       POLITICS\n",
       "\n",
       "[5445 rows x 2 columns]"
      ]
     },
     "execution_count": 4,
     "metadata": {},
     "output_type": "execute_result"
    }
   ],
   "source": [
    "\"\"\"\n",
    "Reading the column data from the respective .csv files that contains the Text and respective label.\n",
    "This model works on all kinds of Text data that was labeled properly according to the text. \n",
    "We just need to change the name of the file that was given as an input.\n",
    "\"\"\"\n",
    "df = pd.read_csv(\"/Users/shankar/Data/Project/Huff Post.csv\")  #BBC News Train #Huff Post\n",
    "df = df[['Text','Category']]\n",
    "df"
   ]
  },
  {
   "cell_type": "code",
   "execution_count": 5,
   "id": "endangered-commons",
   "metadata": {},
   "outputs": [
    {
     "data": {
      "text/plain": [
       "0               CRIME\n",
       "1       ENTERTAINMENT\n",
       "2       ENTERTAINMENT\n",
       "3       ENTERTAINMENT\n",
       "4       ENTERTAINMENT\n",
       "            ...      \n",
       "5440           SPORTS\n",
       "5441           SPORTS\n",
       "5442           COMEDY\n",
       "5443           SPORTS\n",
       "5444         POLITICS\n",
       "Name: Category, Length: 5445, dtype: object"
      ]
     },
     "execution_count": 5,
     "metadata": {},
     "output_type": "execute_result"
    }
   ],
   "source": [
    "\"\"\"\n",
    "Displaying the labels w.r.t the Text and passing it as an input to \n",
    "1. Generate the list to visualize the category count\n",
    "2. Generate the dictionaries to map \n",
    "    a. the label to integer.\n",
    "    b. the predicicted outcome to the corresponding label.\n",
    "\"\"\"\n",
    "df['Category']"
   ]
  },
  {
   "cell_type": "code",
   "execution_count": 6,
   "id": "bridal-unemployment",
   "metadata": {},
   "outputs": [
    {
     "data": {
      "text/plain": [
       "Category\n",
       "BLACK VOICES      290\n",
       "BUSINESS           56\n",
       "COMEDY            305\n",
       "CRIME             136\n",
       "EDUCATION          26\n",
       "ENTERTAINMENT    1121\n",
       "IMPACT             55\n",
       "LATINO VOICES      13\n",
       "MEDIA             174\n",
       "POLITICS         2025\n",
       "QUEER VOICES      290\n",
       "RELIGION           39\n",
       "SCIENCE            28\n",
       "SPORTS            178\n",
       "TECH               40\n",
       "TRAVEL             55\n",
       "WEIRD NEWS        133\n",
       "WOMEN             140\n",
       "WORLD NEWS        341\n",
       "Name: category_id, dtype: int64"
      ]
     },
     "execution_count": 6,
     "metadata": {},
     "output_type": "execute_result"
    }
   ],
   "source": [
    "\"\"\"\n",
    "Displaying the categories w.r.t their count\n",
    "\"\"\"\n",
    "df['category_id'] = df['Category'].factorize()[0]\n",
    "category_list = df.groupby('Category').category_id.count()\n",
    "category_list"
   ]
  },
  {
   "cell_type": "markdown",
   "id": "embedded-study",
   "metadata": {},
   "source": [
    " "
   ]
  },
  {
   "cell_type": "code",
   "execution_count": 7,
   "id": "indian-syracuse",
   "metadata": {},
   "outputs": [
    {
     "data": {
      "image/png": "[encoded data removed]",
      "text/plain": [
       "<Figure size 2160x360 with 1 Axes>"
      ]
     },
     "metadata": {
      "needs_background": "light"
     },
     "output_type": "display_data"
    }
   ],
   "source": [
    "\"\"\"\n",
    "Visualizing the label count\n",
    "\"\"\"\n",
    "category = df['Category'].value_counts()\n",
    "plt.figure(figsize=(30, 5))\n",
    "sns.barplot(category.index, category.values);"
   ]
  },
  {
   "cell_type": "markdown",
   "id": "developing-delicious",
   "metadata": {},
   "source": [
    "  "
   ]
  },
  {
   "cell_type": "code",
   "execution_count": 8,
   "id": "destroyed-stationery",
   "metadata": {},
   "outputs": [],
   "source": [
    "\"\"\"\n",
    "Using term frequency and inverse document frequency to generate the features w.r.t the stopwords present in the text.\n",
    "\"\"\"\n",
    "from sklearn.feature_extraction.text import TfidfVectorizer\n",
    "tfidf = TfidfVectorizer(sublinear_tf=True, min_df=5, norm='l2', encoding='latin-1', ngram_range=(1, 2),\n",
    "                        stop_words='english')"
   ]
  },
  {
   "cell_type": "code",
   "execution_count": 9,
   "id": "loved-london",
   "metadata": {},
   "outputs": [
    {
     "data": {
      "text/plain": [
       "array([[0.        , 0.        , 0.        , ..., 0.        , 0.        ,\n",
       "        0.        ],\n",
       "       [0.        , 0.        , 0.        , ..., 0.        , 0.        ,\n",
       "        0.        ],\n",
       "       [0.        , 0.        , 0.        , ..., 0.        , 0.        ,\n",
       "        0.        ],\n",
       "       ...,\n",
       "       [0.        , 0.        , 0.        , ..., 0.        , 0.        ,\n",
       "        0.        ],\n",
       "       [0.        , 0.04155581, 0.        , ..., 0.        , 0.        ,\n",
       "        0.        ],\n",
       "       [0.        , 0.        , 0.        , ..., 0.        , 0.        ,\n",
       "        0.        ]])"
      ]
     },
     "execution_count": 9,
     "metadata": {},
     "output_type": "execute_result"
    }
   ],
   "source": [
    "\"\"\"\n",
    "Generating the features\n",
    "\"\"\"\n",
    "features = tfidf.fit_transform(df.Text).toarray()\n",
    "features"
   ]
  },
  {
   "cell_type": "code",
   "execution_count": 10,
   "id": "residential-print",
   "metadata": {},
   "outputs": [
    {
     "data": {
      "text/plain": [
       "0        0\n",
       "1        1\n",
       "2        1\n",
       "3        1\n",
       "4        1\n",
       "        ..\n",
       "5440    10\n",
       "5441    10\n",
       "5442     8\n",
       "5443    10\n",
       "5444     4\n",
       "Name: category_id, Length: 5445, dtype: int64"
      ]
     },
     "execution_count": 10,
     "metadata": {},
     "output_type": "execute_result"
    }
   ],
   "source": [
    "\"\"\"\n",
    "Generating the labels for the respective text\n",
    "\"\"\"\n",
    "labels = df.category_id\n",
    "labels"
   ]
  },
  {
   "cell_type": "markdown",
   "id": "variable-mailing",
   "metadata": {},
   "source": [
    " "
   ]
  },
  {
   "cell_type": "code",
   "execution_count": 11,
   "id": "crude-preparation",
   "metadata": {},
   "outputs": [
    {
     "data": {
      "text/plain": [
       "array(['CRIME', 'ENTERTAINMENT', 'ENTERTAINMENT', ..., 'COMEDY', 'SPORTS',\n",
       "       'POLITICS'], dtype=object)"
      ]
     },
     "execution_count": 11,
     "metadata": {},
     "output_type": "execute_result"
    }
   ],
   "source": [
    "\"\"\"\n",
    "Generating a list of available categories to pass this an input to generate dictionary\n",
    "\"\"\"\n",
    "list = df['Category'].values\n",
    "list"
   ]
  },
  {
   "cell_type": "code",
   "execution_count": 12,
   "id": "burning-healing",
   "metadata": {},
   "outputs": [
    {
     "data": {
      "text/plain": [
       "{'CRIME': 0,\n",
       " 'ENTERTAINMENT': 1,\n",
       " 'WORLD NEWS': 2,\n",
       " 'IMPACT': 3,\n",
       " 'POLITICS': 4,\n",
       " 'WEIRD NEWS': 5,\n",
       " 'BLACK VOICES': 6,\n",
       " 'WOMEN': 7,\n",
       " 'COMEDY': 8,\n",
       " 'QUEER VOICES': 9,\n",
       " 'SPORTS': 10,\n",
       " 'BUSINESS': 11,\n",
       " 'TRAVEL': 12,\n",
       " 'MEDIA': 13,\n",
       " 'TECH': 14,\n",
       " 'RELIGION': 15,\n",
       " 'SCIENCE': 16,\n",
       " 'LATINO VOICES': 17,\n",
       " 'EDUCATION': 18}"
      ]
     },
     "execution_count": 12,
     "metadata": {},
     "output_type": "execute_result"
    }
   ],
   "source": [
    "\"\"\"\n",
    "Populating the 2 dictionaries\n",
    "    a. the label to integer.\n",
    "    b. the predicicted outcome to the corresponding label.\n",
    "\"\"\"\n",
    "category_to_id_dict = {}\n",
    "id_to_category_dict = {}\n",
    "\n",
    "i=0\n",
    "for word in list:\n",
    "      if not word in category_to_id_dict:\n",
    "            category_to_id_dict.update({word:i})\n",
    "            id_to_category_dict.update({i:word})\n",
    "            i=i+1\n",
    "category_to_id_dict"
   ]
  },
  {
   "cell_type": "code",
   "execution_count": 13,
   "id": "wrong-proxy",
   "metadata": {},
   "outputs": [
    {
     "data": {
      "text/plain": [
       "{0: 'CRIME',\n",
       " 1: 'ENTERTAINMENT',\n",
       " 2: 'WORLD NEWS',\n",
       " 3: 'IMPACT',\n",
       " 4: 'POLITICS',\n",
       " 5: 'WEIRD NEWS',\n",
       " 6: 'BLACK VOICES',\n",
       " 7: 'WOMEN',\n",
       " 8: 'COMEDY',\n",
       " 9: 'QUEER VOICES',\n",
       " 10: 'SPORTS',\n",
       " 11: 'BUSINESS',\n",
       " 12: 'TRAVEL',\n",
       " 13: 'MEDIA',\n",
       " 14: 'TECH',\n",
       " 15: 'RELIGION',\n",
       " 16: 'SCIENCE',\n",
       " 17: 'LATINO VOICES',\n",
       " 18: 'EDUCATION'}"
      ]
     },
     "execution_count": 13,
     "metadata": {},
     "output_type": "execute_result"
    }
   ],
   "source": [
    "id_to_category_dict"
   ]
  },
  {
   "cell_type": "markdown",
   "id": "korean-argentina",
   "metadata": {},
   "source": [
    "  "
   ]
  },
  {
   "cell_type": "code",
   "execution_count": 14,
   "id": "mature-baltimore",
   "metadata": {},
   "outputs": [],
   "source": [
    "\"\"\"\n",
    "Modeling the RandomForestClassifier\n",
    "\"\"\"\n",
    "from sklearn.model_selection import train_test_split\n",
    "from sklearn.ensemble import RandomForestClassifier"
   ]
  },
  {
   "cell_type": "code",
   "execution_count": 15,
   "id": "liked-greece",
   "metadata": {},
   "outputs": [],
   "source": [
    "\"\"\"\n",
    "Spliting the input data into training and testing data\n",
    "\"\"\"\n",
    "X_train, X_test, y_train, y_test = train_test_split(features, labels, test_size=0.10, random_state=42)"
   ]
  },
  {
   "cell_type": "code",
   "execution_count": 16,
   "id": "closed-movement",
   "metadata": {},
   "outputs": [],
   "source": [
    "\"\"\"\n",
    "Modeling\n",
    "\"\"\"\n",
    "model = RandomForestClassifier()"
   ]
  },
  {
   "cell_type": "code",
   "execution_count": 17,
   "id": "numerical-november",
   "metadata": {},
   "outputs": [
    {
     "data": {
      "text/plain": [
       "RandomForestClassifier()"
      ]
     },
     "execution_count": 17,
     "metadata": {},
     "output_type": "execute_result"
    }
   ],
   "source": [
    "\"\"\"\n",
    "Fitting the model\n",
    "\"\"\"\n",
    "model.fit(X_train, y_train)"
   ]
  },
  {
   "cell_type": "code",
   "execution_count": 18,
   "id": "governing-sensitivity",
   "metadata": {},
   "outputs": [
    {
     "data": {
      "text/plain": [
       "array([ 1,  4,  4,  4,  1,  1,  4,  1,  1,  4,  4,  4,  1,  4,  4,  4,  4,\n",
       "        1,  4,  4,  1,  4,  4,  4, 13,  1,  2,  1,  4,  1,  4,  4,  4,  1,\n",
       "        4,  4,  1,  4,  4,  2,  1,  1,  4,  1,  4,  1,  4,  1,  4,  1,  1,\n",
       "        1,  1,  4,  4,  4,  4,  1,  2,  1,  1, 10,  4,  4,  1,  4,  4,  1,\n",
       "        1,  1,  1,  8,  1,  1,  1,  4,  4,  4,  4,  1,  4,  1,  1,  4,  4,\n",
       "        4, 10,  1,  4,  4,  4,  1,  9,  1,  4,  1,  4,  4,  8,  1,  1,  1,\n",
       "        4,  2,  4,  1,  4,  4,  1,  4,  4,  4,  4,  1,  4,  4,  4,  1,  1,\n",
       "        4,  1,  4,  1,  4, 10,  4,  4,  1,  6,  4,  4,  4, 10,  4,  4,  1,\n",
       "        4,  1,  1,  1,  4,  6,  1,  4,  4, 10, 10,  4,  4,  4,  4,  4,  2,\n",
       "        1,  4,  4,  0,  2,  4,  4,  4,  4,  4,  4,  1,  4,  4,  1,  1,  4,\n",
       "        4,  1,  5,  1,  4,  1,  1,  4,  4,  4,  1,  4,  4,  1,  4,  4,  4,\n",
       "        0,  4, 10,  1,  4,  1,  4,  4,  1,  1,  4,  4,  4,  1,  4,  4,  8,\n",
       "        9,  1,  4,  4,  1,  4,  8,  4,  4,  1,  4,  1,  4,  4,  4,  8,  4,\n",
       "        1,  4,  4,  4,  1,  4,  1,  1,  6,  4,  4,  2,  4,  4,  1,  4,  4,\n",
       "        1,  4,  1,  1,  4,  4,  4,  1,  4,  4,  1,  9,  1,  4,  1,  1,  1,\n",
       "        4,  4,  1,  0,  4,  1,  1,  4,  1,  4,  1,  1,  1,  4,  4,  4,  4,\n",
       "        1,  1,  1,  4,  8,  1,  1,  2,  1,  4,  8,  1,  1,  4,  4,  4,  4,\n",
       "        4,  4,  4,  4,  1,  9,  5,  4,  1,  4,  1,  4,  4,  4,  4,  4, 13,\n",
       "        1,  4,  1,  1,  4,  4,  1,  1,  4,  4,  4,  1,  4,  4,  0,  8,  4,\n",
       "        4,  4,  8,  4,  4,  6,  4,  1,  4,  1,  4,  4,  1,  4,  1,  1,  4,\n",
       "        4,  0,  4,  4,  1,  1,  1,  4,  4,  1,  4,  4,  4,  1,  4,  4,  4,\n",
       "        4,  4,  4,  1,  4,  1,  1,  1,  4,  1, 10,  4,  1,  4,  1,  4,  6,\n",
       "        4,  4, 10,  4,  1,  6,  1,  9,  4,  1,  1,  1,  9,  4,  1,  4,  4,\n",
       "        4,  4,  1,  4,  4,  1,  1,  4,  1,  4,  1,  4,  1,  4,  1,  2,  4,\n",
       "        1,  1,  1,  4,  1,  4,  2,  4,  1,  4,  1,  4,  1,  4,  1,  4,  8,\n",
       "        4,  4,  4,  1,  8,  4,  4,  4,  4,  1,  8,  4,  4,  4,  4,  1, 10,\n",
       "        4,  4,  4,  1,  4,  1,  4,  4,  4,  4,  1,  4,  1,  4,  0,  1,  4,\n",
       "        4,  9,  4,  1,  4,  4,  4,  6,  4,  4,  4,  1,  1,  4,  4,  8,  1,\n",
       "        2,  1,  8,  4,  4,  4,  4,  1,  4,  4,  1,  1,  4,  1,  4,  4,  1,\n",
       "        4,  4, 10,  4,  1,  1,  6,  1,  4,  4,  4, 10,  1,  4,  1,  4,  1,\n",
       "        4,  2, 10,  4,  4,  4,  4,  1,  4,  1,  4,  1,  1,  1,  1,  4,  4,\n",
       "        1,  4,  4,  4,  1,  1,  6,  8,  4,  4,  4,  4,  1,  8,  4,  4,  1,\n",
       "        1])"
      ]
     },
     "execution_count": 18,
     "metadata": {},
     "output_type": "execute_result"
    }
   ],
   "source": [
    "\"\"\"\n",
    "predicting the testing data\n",
    "\"\"\"\n",
    "y_pred = model.predict(X_test)\n",
    "y_pred"
   ]
  },
  {
   "cell_type": "code",
   "execution_count": 19,
   "id": "professional-boston",
   "metadata": {},
   "outputs": [
    {
     "data": {
      "text/plain": [
       "0.653211009174312"
      ]
     },
     "execution_count": 19,
     "metadata": {},
     "output_type": "execute_result"
    }
   ],
   "source": [
    "\"\"\"\n",
    "Evaluating the accuracy of the model\n",
    "\"\"\"\n",
    "from sklearn.metrics import accuracy_score\n",
    "accuracy = accuracy_score(y_test, y_pred)\n",
    "accuracy"
   ]
  },
  {
   "cell_type": "markdown",
   "id": "accepting-breakfast",
   "metadata": {},
   "source": [
    " "
   ]
  },
  {
   "cell_type": "markdown",
   "id": "enormous-rebate",
   "metadata": {},
   "source": [
    " "
   ]
  },
  {
   "cell_type": "code",
   "execution_count": 20,
   "id": "powerful-championship",
   "metadata": {},
   "outputs": [
    {
     "data": {
      "text/plain": [
       "\"A Pennsylvania nurse has been arrested and charged with involuntary manslaughter, neglect and falsifying documents in the death of the father of former White House national security adviser H.R. McMaster.\\r\\n\\r\\nChristann Shyvin Gainey, 30, was taken into custody on Thursday after being accused of falsely claiming to have performed a series of required medical examinations on 84-year-old Herbert R. McMaster Sr. after he fell and hit his head at a senior living facility in Philadelphia, authorities said.\\r\\n\\r\\nThe morning after the April 12 fall at Cathedral Village in Upper Roxborough, McMaster was found dead in a wheelchair. His cause of death was determined to be blunt impact head trauma with a contributing factor of untreated pooling of blood outside his brain, said Pennsylvania Attorney General Josh Shapiro, citing the findings of the Philadelphia chief medical examiner.\\r\\n\\r\\nAnadolu Agency via Getty Images The father of former White House national security adviser H.R. McMaster died last month at a Philadelphia nursing home after falling and hitting his head, authorities said.\\r\\n\\r\\nShapiro, while announcing the felony charges at a news conference, said Gainey was required to perform eight neurological checks after the fall as part of the facility’s policy. Those checks ― of motor and verbal skills, vital signs and the eyes’ response to light ― could have saved his life, he said.\\r\\n\\r\\n“When a family selects a senior living facility, they do not expect their loved one to be found dead in the lobby of a place that was supposed to be caring for him,” Shapiro said in a news release. “This nurse ignored her job responsibilities, falsified paperwork, lied to her supervisors and neglected Mr. McMaster, who died.”\\r\\n\\r\\nGainey is accused of lying to an assistant nursing director when she was asked if she had performed the required examinations. She also falsely reported that an evaluation had been performed on McMaster’s neurological chart, according to a police affidavit obtained by The Associated Press.\\r\\n\\r\\nattorneygeneralgov Christann Shyvin Gainey, 30, is facing felony charges, including involuntary manslaughter, neglect and falsifying documents.\\r\\n\\r\\nA review of surveillance video at the facility concluded that Gainey did not perform a single neurological exam, police said.\\r\\n\\r\\nGainey’s attorney, Sharon Piper, told the AP that her client intends to plead not guilty to the charges. She declined further comment.\\r\\n\\r\\nThe facility, in a statement posted to its website on Friday, said it has undergone two inspections by the state’s Department of Health in recent weeks ― one of which was specific to the April 13 death.\\r\\n\\r\\n“We have addressed the issues brought to our attention during the first inspection in this way, and will respond in the same prompt and thorough fashion when we receive the official findings of the second inspection,” the statement read.\\r\\n\\r\\nBloomberg via Getty Images President Donald Trump with H.R. McMaster, then his national security adviser, in June. On Thursday, a nurse was charged in the death of McMaster's father.\\r\\n\\r\\nAt his news conference, Shapiro emphasized McMaster’s high profile, stating that the case “has prominence because of McMaster and his son’s service to our country.”\\r\\n\\r\\nA statement released by McMaster’s family expressed gratitude to the attorney general’s office and local authorities.\\r\\n\\r\\n“Our father, Lieutenant Colonel Herbert R. McMaster (U.S. Army, retired), was a tough and compassionate soldier and public servant,” said his daughter, Letitia McMaster. “He was committed to his neighbors, his fellow soldiers, his community and his country. The best way to honor his memory is for all of us to do all we can to prevent others from suffering at the hands of those who lack compassion and abandon even the most basic standards of human decency. Today’s charges are an important step forward in that connection.”\""
      ]
     },
     "execution_count": 20,
     "metadata": {},
     "output_type": "execute_result"
    }
   ],
   "source": [
    "\"\"\"\n",
    "Selecting a block of text to predict it's category\n",
    "\"\"\"\n",
    "text = df.at[800,\"Text\"]\n",
    "text"
   ]
  },
  {
   "cell_type": "code",
   "execution_count": 21,
   "id": "attractive-evans",
   "metadata": {},
   "outputs": [],
   "source": [
    "\"\"\"\n",
    "Generating the features\n",
    "\"\"\"\n",
    "test_features = tfidf.transform([text])"
   ]
  },
  {
   "cell_type": "code",
   "execution_count": 22,
   "id": "surprised-inclusion",
   "metadata": {},
   "outputs": [],
   "source": [
    "\"\"\"\n",
    "Predicting the label\n",
    "\"\"\"\n",
    "prediction = model.predict(test_features)"
   ]
  },
  {
   "cell_type": "code",
   "execution_count": 23,
   "id": "revolutionary-morning",
   "metadata": {},
   "outputs": [
    {
     "name": "stdout",
     "output_type": "stream",
     "text": [
      "CRIME\n"
     ]
    }
   ],
   "source": [
    "\"\"\"\n",
    "Printing the label\n",
    "\"\"\"\n",
    "for i in range(len(prediction)):\n",
    "    print(id_to_category_dict[prediction[i]])"
   ]
  },
  {
   "cell_type": "markdown",
   "id": "spanish-review",
   "metadata": {},
   "source": [
    " "
   ]
  },
  {
   "cell_type": "markdown",
   "id": "linear-laugh",
   "metadata": {},
   "source": [
    " "
   ]
  },
  {
   "cell_type": "code",
   "execution_count": 24,
   "id": "regional-validation",
   "metadata": {},
   "outputs": [],
   "source": [
    "\"\"\"\n",
    "Forming a list of model to pass as an input and check performance of each model w.r.t another\n",
    "\"\"\"\n",
    "models = [\n",
    "    RandomForestClassifier(n_estimators=200, max_depth=3, random_state=0),\n",
    "    KNeighborsClassifier(n_neighbors=3),\n",
    "    MultinomialNB(),\n",
    "    LogisticRegression(random_state=0)\n",
    "]"
   ]
  },
  {
   "cell_type": "code",
   "execution_count": 25,
   "id": "czech-alcohol",
   "metadata": {},
   "outputs": [],
   "source": [
    "\"\"\"\n",
    "Calculating the cross-validation score for each model\n",
    "\"\"\"\n",
    "entries = []\n",
    "\n",
    "for model in models:\n",
    "    model_name = model.__class__.__name__\n",
    "    accuracies = cross_val_score(model, features, labels, scoring='accuracy', cv=4)\n",
    "    for i, accuracy in enumerate(accuracies):\n",
    "        entries.append((model_name, i, accuracy))"
   ]
  },
  {
   "cell_type": "markdown",
   "id": "following-saskatchewan",
   "metadata": {},
   "source": [
    " "
   ]
  },
  {
   "cell_type": "code",
   "execution_count": 26,
   "id": "future-religion",
   "metadata": {
    "scrolled": true
   },
   "outputs": [
    {
     "data": {
      "text/html": [
       "<div>\n",
       "<style scoped>\n",
       "    .dataframe tbody tr th:only-of-type {\n",
       "        vertical-align: middle;\n",
       "    }\n",
       "\n",
       "    .dataframe tbody tr th {\n",
       "        vertical-align: top;\n",
       "    }\n",
       "\n",
       "    .dataframe thead th {\n",
       "        text-align: right;\n",
       "    }\n",
       "</style>\n",
       "<table border=\"1\" class=\"dataframe\">\n",
       "  <thead>\n",
       "    <tr style=\"text-align: right;\">\n",
       "      <th></th>\n",
       "      <th>model_name</th>\n",
       "      <th>Cross-Validation-Set</th>\n",
       "      <th>accuracy</th>\n",
       "    </tr>\n",
       "  </thead>\n",
       "  <tbody>\n",
       "    <tr>\n",
       "      <th>0</th>\n",
       "      <td>RandomForestClassifier</td>\n",
       "      <td>0</td>\n",
       "      <td>0.372981</td>\n",
       "    </tr>\n",
       "    <tr>\n",
       "      <th>1</th>\n",
       "      <td>RandomForestClassifier</td>\n",
       "      <td>1</td>\n",
       "      <td>0.379133</td>\n",
       "    </tr>\n",
       "    <tr>\n",
       "      <th>2</th>\n",
       "      <td>RandomForestClassifier</td>\n",
       "      <td>2</td>\n",
       "      <td>0.372520</td>\n",
       "    </tr>\n",
       "    <tr>\n",
       "      <th>3</th>\n",
       "      <td>RandomForestClassifier</td>\n",
       "      <td>3</td>\n",
       "      <td>0.374724</td>\n",
       "    </tr>\n",
       "    <tr>\n",
       "      <th>4</th>\n",
       "      <td>KNeighborsClassifier</td>\n",
       "      <td>0</td>\n",
       "      <td>0.674743</td>\n",
       "    </tr>\n",
       "    <tr>\n",
       "      <th>5</th>\n",
       "      <td>KNeighborsClassifier</td>\n",
       "      <td>1</td>\n",
       "      <td>0.728141</td>\n",
       "    </tr>\n",
       "    <tr>\n",
       "      <th>6</th>\n",
       "      <td>KNeighborsClassifier</td>\n",
       "      <td>2</td>\n",
       "      <td>0.703159</td>\n",
       "    </tr>\n",
       "    <tr>\n",
       "      <th>7</th>\n",
       "      <td>KNeighborsClassifier</td>\n",
       "      <td>3</td>\n",
       "      <td>0.704629</td>\n",
       "    </tr>\n",
       "    <tr>\n",
       "      <th>8</th>\n",
       "      <td>MultinomialNB</td>\n",
       "      <td>0</td>\n",
       "      <td>0.556535</td>\n",
       "    </tr>\n",
       "    <tr>\n",
       "      <th>9</th>\n",
       "      <td>MultinomialNB</td>\n",
       "      <td>1</td>\n",
       "      <td>0.538575</td>\n",
       "    </tr>\n",
       "    <tr>\n",
       "      <th>10</th>\n",
       "      <td>MultinomialNB</td>\n",
       "      <td>2</td>\n",
       "      <td>0.545187</td>\n",
       "    </tr>\n",
       "    <tr>\n",
       "      <th>11</th>\n",
       "      <td>MultinomialNB</td>\n",
       "      <td>3</td>\n",
       "      <td>0.551800</td>\n",
       "    </tr>\n",
       "    <tr>\n",
       "      <th>12</th>\n",
       "      <td>LogisticRegression</td>\n",
       "      <td>0</td>\n",
       "      <td>0.674743</td>\n",
       "    </tr>\n",
       "    <tr>\n",
       "      <th>13</th>\n",
       "      <td>LogisticRegression</td>\n",
       "      <td>1</td>\n",
       "      <td>0.680382</td>\n",
       "    </tr>\n",
       "    <tr>\n",
       "      <th>14</th>\n",
       "      <td>LogisticRegression</td>\n",
       "      <td>2</td>\n",
       "      <td>0.693608</td>\n",
       "    </tr>\n",
       "    <tr>\n",
       "      <th>15</th>\n",
       "      <td>LogisticRegression</td>\n",
       "      <td>3</td>\n",
       "      <td>0.675974</td>\n",
       "    </tr>\n",
       "  </tbody>\n",
       "</table>\n",
       "</div>"
      ],
      "text/plain": [
       "                model_name  Cross-Validation-Set  accuracy\n",
       "0   RandomForestClassifier                     0  0.372981\n",
       "1   RandomForestClassifier                     1  0.379133\n",
       "2   RandomForestClassifier                     2  0.372520\n",
       "3   RandomForestClassifier                     3  0.374724\n",
       "4     KNeighborsClassifier                     0  0.674743\n",
       "5     KNeighborsClassifier                     1  0.728141\n",
       "6     KNeighborsClassifier                     2  0.703159\n",
       "7     KNeighborsClassifier                     3  0.704629\n",
       "8            MultinomialNB                     0  0.556535\n",
       "9            MultinomialNB                     1  0.538575\n",
       "10           MultinomialNB                     2  0.545187\n",
       "11           MultinomialNB                     3  0.551800\n",
       "12      LogisticRegression                     0  0.674743\n",
       "13      LogisticRegression                     1  0.680382\n",
       "14      LogisticRegression                     2  0.693608\n",
       "15      LogisticRegression                     3  0.675974"
      ]
     },
     "execution_count": 26,
     "metadata": {},
     "output_type": "execute_result"
    }
   ],
   "source": [
    "\"\"\"\n",
    "Populating the entries into a Data Frame\n",
    "\"\"\"\n",
    "entries\n",
    "cv_df = pd.DataFrame(entries, columns=['model_name', 'Cross-Validation-Set', 'accuracy'])\n",
    "cv_df"
   ]
  },
  {
   "cell_type": "code",
   "execution_count": 27,
   "id": "personal-median",
   "metadata": {},
   "outputs": [
    {
     "data": {
      "text/plain": [
       "<AxesSubplot:xlabel='model_name', ylabel='accuracy'>"
      ]
     },
     "execution_count": 27,
     "metadata": {},
     "output_type": "execute_result"
    },
    {
     "data": {
      "image/png": "[encoded data removed]",
      "text/plain": [
       "<Figure size 720x360 with 1 Axes>"
      ]
     },
     "metadata": {
      "needs_background": "light"
     },
     "output_type": "display_data"
    }
   ],
   "source": [
    "\"\"\"\n",
    "Plotting the results of model (vs) cross_validation_accuracy\n",
    "\"\"\"\n",
    "plt.figure(figsize=(10, 5))\n",
    "sns.boxplot('model_name', 'accuracy', data=cv_df)"
   ]
  }
 ],
 "metadata": {
  "kernelspec": {
   "display_name": "Python 3",
   "language": "python",
   "name": "python3"
  },
  "language_info": {
   "codemirror_mode": {
    "name": "ipython",
    "version": 3
   },
   "file_extension": ".py",
   "mimetype": "text/x-python",
   "name": "python",
   "nbconvert_exporter": "python",
   "pygments_lexer": "ipython3",
   "version": "3.8.5"
  }
 },
 "nbformat": 4,
 "nbformat_minor": 5
}
